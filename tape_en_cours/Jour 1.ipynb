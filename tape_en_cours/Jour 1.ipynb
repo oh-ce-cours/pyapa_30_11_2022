{
 "cells": [
  {
   "cell_type": "markdown",
   "id": "c96e6190-3088-45ee-832c-7368ae8ad7e4",
   "metadata": {},
   "source": [
    "# Jour 1 \n",
    "\n",
    "## Matin \n",
    "\n",
    "* histoire / historique du langage\n",
    "* problèmes de paths et solution avec les venvs\n",
    "* endroit où est installée une bibliothèque : `import numpy; print(numpy.__file__)`\n",
    "* environnements virtuels \n",
    "    * création (création d'un dossier et d'une arborescence) : `python -m venv LE_NOM_DU_VENV`\n",
    "    * activation (modification des variables PATH) : `LE_NOM_DU_VENV\\Scripts\\activate`\n",
    "    * désactivation : `deactivate`\n",
    "    * suppression : on supprime le dossier \n",
    "* installation de paquets :\n",
    "    * avec pip : \n",
    "        * liste des bibliothèques tierces : `pip freeze > requirements.txt`\n",
    "        * installer une liste de bibliothèques : `pip install -r requirements.txt`\n",
    "    * avec conda : \n",
    "        * `conda env export > environment.yml`\n",
    "        * `conda env create -f environment.yml`\n"
   ]
  },
  {
   "cell_type": "code",
   "execution_count": 1,
   "id": "ebc0d9ca-e798-4b49-8a1e-428f62ee4738",
   "metadata": {},
   "outputs": [
    {
     "name": "stdout",
     "output_type": "stream",
     "text": [
      "['C:\\\\Users\\\\orsys\\\\Desktop\\\\pyapa_30_11_2022\\\\tape_en_cours', 'C:\\\\ProgramData\\\\Anaconda3\\\\python39.zip', 'C:\\\\ProgramData\\\\Anaconda3\\\\DLLs', 'C:\\\\ProgramData\\\\Anaconda3\\\\lib', 'C:\\\\ProgramData\\\\Anaconda3', 'C:\\\\Users\\\\orsys\\\\mon_environnement_virtuel', '', 'C:\\\\Users\\\\orsys\\\\mon_environnement_virtuel\\\\lib\\\\site-packages', 'C:\\\\Users\\\\orsys\\\\mon_environnement_virtuel\\\\lib\\\\site-packages\\\\win32', 'C:\\\\Users\\\\orsys\\\\mon_environnement_virtuel\\\\lib\\\\site-packages\\\\win32\\\\lib', 'C:\\\\Users\\\\orsys\\\\mon_environnement_virtuel\\\\lib\\\\site-packages\\\\Pythonwin']\n"
     ]
    }
   ],
   "source": [
    "import sys \n",
    "print(sys.path)"
   ]
  },
  {
   "cell_type": "markdown",
   "id": "d1ef22e6-53ec-47d1-94c0-6e6f604f3221",
   "metadata": {},
   "source": [
    "## Nommage des wheels \n",
    "\n",
    "```\n",
    "contourpy-1.0.6-cp39-cp39-win_amd64.whl\n",
    "{distribution}-{version}(-{build tag})?-{python tag}-{abi tag}-{platform tag}. whl\n",
    "```"
   ]
  },
  {
   "cell_type": "code",
   "execution_count": 2,
   "id": "216dcb6d-3f2c-4d4a-8af1-e1db145f947b",
   "metadata": {},
   "outputs": [
    {
     "data": {
      "text/plain": [
       "False"
      ]
     },
     "execution_count": 2,
     "metadata": {},
     "output_type": "execute_result"
    }
   ],
   "source": [
    "14 % 3 == 0"
   ]
  },
  {
   "cell_type": "code",
   "execution_count": 3,
   "id": "7040f95f-1a20-4cc8-be76-c3a4dc75e986",
   "metadata": {},
   "outputs": [
    {
     "data": {
      "text/plain": [
       "'ab'"
      ]
     },
     "execution_count": 3,
     "metadata": {},
     "output_type": "execute_result"
    }
   ],
   "source": [
    "\"a\" + \"b\""
   ]
  },
  {
   "cell_type": "code",
   "execution_count": 4,
   "id": "bc664dcc-d8f0-4eca-9e6f-4d15897c052b",
   "metadata": {},
   "outputs": [
    {
     "data": {
      "text/plain": [
       "'aaaaa'"
      ]
     },
     "execution_count": 4,
     "metadata": {},
     "output_type": "execute_result"
    }
   ],
   "source": [
    "\"a\" * 5"
   ]
  },
  {
   "cell_type": "code",
   "execution_count": 12,
   "id": "3ac6b59a-09fd-4764-ab18-6acdd1dd43b4",
   "metadata": {},
   "outputs": [
    {
     "data": {
      "text/plain": [
       "('fizz', '')"
      ]
     },
     "execution_count": 12,
     "metadata": {},
     "output_type": "execute_result"
    }
   ],
   "source": [
    "\"fizz\"*1, \"buzz\"*0"
   ]
  },
  {
   "cell_type": "code",
   "execution_count": 6,
   "id": "87e88073-c219-45b6-8586-9713bd8cf2db",
   "metadata": {},
   "outputs": [
    {
     "data": {
      "text/plain": [
       "(0, 1)"
      ]
     },
     "execution_count": 6,
     "metadata": {},
     "output_type": "execute_result"
    }
   ],
   "source": [
    "int(False), int(True)"
   ]
  },
  {
   "cell_type": "code",
   "execution_count": 1,
   "id": "bf7cf820-d19e-4cbd-a9f0-43346fd0961c",
   "metadata": {},
   "outputs": [
    {
     "data": {
      "text/plain": [
       "('', 'a')"
      ]
     },
     "execution_count": 1,
     "metadata": {},
     "output_type": "execute_result"
    }
   ],
   "source": [
    "\"a\"*False, \"a\"*True"
   ]
  },
  {
   "cell_type": "code",
   "execution_count": 7,
   "id": "3b200718",
   "metadata": {},
   "outputs": [
    {
     "name": "stdout",
     "output_type": "stream",
     "text": [
      "\n"
     ]
    }
   ],
   "source": [
    "res = \"\"\n",
    "#res += \"fizz\" \n",
    "#res += \"buzz\"\n",
    "print(res)"
   ]
  },
  {
   "cell_type": "code",
   "execution_count": 11,
   "id": "e3ab6e1e",
   "metadata": {},
   "outputs": [
    {
     "data": {
      "text/plain": [
       "[]"
      ]
     },
     "execution_count": 11,
     "metadata": {},
     "output_type": "execute_result"
    }
   ],
   "source": [
    "[1, 2, 3] * 0"
   ]
  },
  {
   "cell_type": "code",
   "execution_count": 16,
   "id": "8775b645",
   "metadata": {},
   "outputs": [
    {
     "data": {
      "text/plain": [
       "1"
      ]
     },
     "execution_count": 16,
     "metadata": {},
     "output_type": "execute_result"
    }
   ],
   "source": [
    "1 or 1/0"
   ]
  },
  {
   "cell_type": "code",
   "execution_count": 20,
   "id": "0df828e0",
   "metadata": {},
   "outputs": [
    {
     "data": {
      "text/plain": [
       "'4'"
      ]
     },
     "execution_count": 20,
     "metadata": {},
     "output_type": "execute_result"
    }
   ],
   "source": [
    "nombre = 4\n",
    "\"\" or str(nombre)"
   ]
  },
  {
   "cell_type": "code",
   "execution_count": 23,
   "id": "1fec8662",
   "metadata": {},
   "outputs": [],
   "source": [
    "def add_1(x):\n",
    "    return x + 1\n",
    "# est équivalent à \n",
    "add_1 = lambda x: x + 1"
   ]
  },
  {
   "cell_type": "code",
   "execution_count": 22,
   "id": "9613c4d9",
   "metadata": {},
   "outputs": [
    {
     "data": {
      "text/plain": [
       "4"
      ]
     },
     "execution_count": 22,
     "metadata": {},
     "output_type": "execute_result"
    }
   ],
   "source": [
    "add_1(3)"
   ]
  },
  {
   "cell_type": "code",
   "execution_count": 34,
   "id": "e4f7c051",
   "metadata": {},
   "outputs": [
    {
     "ename": "TypeError",
     "evalue": "f() missing 1 required positional argument: 'item'",
     "output_type": "error",
     "traceback": [
      "\u001b[1;31m---------------------------------------------------------------------------\u001b[0m",
      "\u001b[1;31mTypeError\u001b[0m                                 Traceback (most recent call last)",
      "Cell \u001b[1;32mIn[34], line 11\u001b[0m\n\u001b[0;32m      8\u001b[0m     \u001b[38;5;28mprint\u001b[39m(item)\n\u001b[0;32m      9\u001b[0m     \u001b[38;5;28;01mreturn\u001b[39;00m item[\u001b[38;5;241m1\u001b[39m]\n\u001b[1;32m---> 11\u001b[0m \u001b[38;5;28mprint\u001b[39m(\u001b[38;5;28msorted\u001b[39m(data, key\u001b[38;5;241m=\u001b[39m\u001b[43mf\u001b[49m\u001b[43m(\u001b[49m\u001b[43m)\u001b[49m))\n",
      "\u001b[1;31mTypeError\u001b[0m: f() missing 1 required positional argument: 'item'"
     ]
    }
   ],
   "source": [
    "data = [\n",
    "    (1, \"z\"), \n",
    "    (10, \"a\"), \n",
    "    (4, \"e\")\n",
    "]\n",
    "\n",
    "# def f(item):\n",
    "#     print(item)\n",
    "#     return item[1]\n",
    "\n",
    "print(sorted(data, key=lambda x: x[0]))"
   ]
  },
  {
   "cell_type": "code",
   "execution_count": 27,
   "id": "dcbd930c",
   "metadata": {},
   "outputs": [],
   "source": [
    "def my_sorted(iterable, key):\n",
    "    for item, previous_item in ...(iterable):\n",
    "        if key(item) < key(previous_item):\n",
    "            swap(item, previous_item)"
   ]
  },
  {
   "cell_type": "code",
   "execution_count": 39,
   "id": "9a831599",
   "metadata": {},
   "outputs": [
    {
     "data": {
      "text/plain": [
       "<function __main__.<lambda>(x)>"
      ]
     },
     "execution_count": 39,
     "metadata": {},
     "output_type": "execute_result"
    }
   ],
   "source": [
    "totot = lambda x: x[0]\n",
    "totot([1, 2])\n",
    "\n",
    "plop = totot\n",
    "plop"
   ]
  },
  {
   "cell_type": "code",
   "execution_count": 44,
   "id": "29244ba6",
   "metadata": {},
   "outputs": [
    {
     "name": "stdout",
     "output_type": "stream",
     "text": [
      "[0, 1, 4, 9, 16, 25, 36, 49, 64, 81]\n"
     ]
    }
   ],
   "source": [
    "def carre(nombre):\n",
    "    return nombre**2\n",
    "\n",
    "res = []\n",
    "for nombre in range(10):\n",
    "    res.append(carre(nombre))\n",
    "print(res)"
   ]
  },
  {
   "cell_type": "code",
   "execution_count": 48,
   "id": "5cfe0a84",
   "metadata": {},
   "outputs": [
    {
     "data": {
      "text/plain": [
       "[0, 1, 4, 9, 16, 25, 36, 49, 64, 81]"
      ]
     },
     "execution_count": 48,
     "metadata": {},
     "output_type": "execute_result"
    }
   ],
   "source": [
    "list(map(carre, range(10)))"
   ]
  },
  {
   "cell_type": "code",
   "execution_count": null,
   "id": "1f37a4c8",
   "metadata": {},
   "outputs": [],
   "source": [
    "def my_map(f, iterable):\n",
    "    res = []\n",
    "    for item in iterable:\n",
    "        res.append(f(item))"
   ]
  }
 ],
 "metadata": {
  "kernelspec": {
   "display_name": "Python 3 (ipykernel)",
   "language": "python",
   "name": "python3"
  },
  "language_info": {
   "codemirror_mode": {
    "name": "ipython",
    "version": 3
   },
   "file_extension": ".py",
   "mimetype": "text/x-python",
   "name": "python",
   "nbconvert_exporter": "python",
   "pygments_lexer": "ipython3",
   "version": "3.9.12"
  }
 },
 "nbformat": 4,
 "nbformat_minor": 5
}
