{
 "cells": [
  {
   "cell_type": "markdown",
   "id": "c96e6190-3088-45ee-832c-7368ae8ad7e4",
   "metadata": {},
   "source": [
    "# Jour 1 \n",
    "\n",
    "## Matin \n",
    "\n",
    "* histoire / historique du langage\n",
    "* problèmes de paths et solution avec les venvs\n",
    "* endroit où est installée une bibliothèque : `import numpy; print(numpy.__file__)`\n",
    "* environnements virtuels \n",
    "    * création (création d'un dossier et d'une arborescence) : `python -m venv LE_NOM_DU_VENV`\n",
    "    * activation (modification des variables PATH) : `LE_NOM_DU_VENV\\Scripts\\activate`\n",
    "    * désactivation : `deactivate`\n",
    "    * suppression : on supprime le dossier \n",
    "* installation de paquets :\n",
    "    * avec pip : \n",
    "        * liste des bibliothèques tierces : `pip freeze > requirements.txt`\n",
    "        * installer une liste de bibliothèques : `pip install -r requirements.txt`\n",
    "    * avec conda : \n",
    "        * `conda env export > environment.yml`\n",
    "        * `conda env create -f environment.yml`\n"
   ]
  },
  {
   "cell_type": "code",
   "execution_count": 1,
   "id": "ebc0d9ca-e798-4b49-8a1e-428f62ee4738",
   "metadata": {},
   "outputs": [
    {
     "name": "stdout",
     "output_type": "stream",
     "text": [
      "['C:\\\\Users\\\\orsys\\\\Desktop\\\\pyapa_30_11_2022\\\\tape_en_cours', 'C:\\\\ProgramData\\\\Anaconda3\\\\python39.zip', 'C:\\\\ProgramData\\\\Anaconda3\\\\DLLs', 'C:\\\\ProgramData\\\\Anaconda3\\\\lib', 'C:\\\\ProgramData\\\\Anaconda3', 'C:\\\\Users\\\\orsys\\\\mon_environnement_virtuel', '', 'C:\\\\Users\\\\orsys\\\\mon_environnement_virtuel\\\\lib\\\\site-packages', 'C:\\\\Users\\\\orsys\\\\mon_environnement_virtuel\\\\lib\\\\site-packages\\\\win32', 'C:\\\\Users\\\\orsys\\\\mon_environnement_virtuel\\\\lib\\\\site-packages\\\\win32\\\\lib', 'C:\\\\Users\\\\orsys\\\\mon_environnement_virtuel\\\\lib\\\\site-packages\\\\Pythonwin']\n"
     ]
    }
   ],
   "source": [
    "import sys \n",
    "print(sys.path)"
   ]
  },
  {
   "cell_type": "markdown",
   "id": "d1ef22e6-53ec-47d1-94c0-6e6f604f3221",
   "metadata": {},
   "source": [
    "## Nommage des wheels \n",
    "\n",
    "```\n",
    "contourpy-1.0.6-cp39-cp39-win_amd64.whl\n",
    "{distribution}-{version}(-{build tag})?-{python tag}-{abi tag}-{platform tag}. whl\n",
    "```"
   ]
  },
  {
   "cell_type": "code",
   "execution_count": 2,
   "id": "216dcb6d-3f2c-4d4a-8af1-e1db145f947b",
   "metadata": {},
   "outputs": [
    {
     "data": {
      "text/plain": [
       "False"
      ]
     },
     "execution_count": 2,
     "metadata": {},
     "output_type": "execute_result"
    }
   ],
   "source": [
    "14 % 3 == 0"
   ]
  },
  {
   "cell_type": "code",
   "execution_count": 3,
   "id": "7040f95f-1a20-4cc8-be76-c3a4dc75e986",
   "metadata": {},
   "outputs": [
    {
     "data": {
      "text/plain": [
       "'ab'"
      ]
     },
     "execution_count": 3,
     "metadata": {},
     "output_type": "execute_result"
    }
   ],
   "source": [
    "\"a\" + \"b\""
   ]
  },
  {
   "cell_type": "code",
   "execution_count": 4,
   "id": "bc664dcc-d8f0-4eca-9e6f-4d15897c052b",
   "metadata": {},
   "outputs": [
    {
     "data": {
      "text/plain": [
       "'aaaaa'"
      ]
     },
     "execution_count": 4,
     "metadata": {},
     "output_type": "execute_result"
    }
   ],
   "source": [
    "\"a\" * 5"
   ]
  },
  {
   "cell_type": "code",
   "execution_count": 5,
   "id": "3ac6b59a-09fd-4764-ab18-6acdd1dd43b4",
   "metadata": {},
   "outputs": [
    {
     "data": {
      "text/plain": [
       "('a', '')"
      ]
     },
     "execution_count": 5,
     "metadata": {},
     "output_type": "execute_result"
    }
   ],
   "source": [
    "\"a\"*1, \"a\"*0"
   ]
  },
  {
   "cell_type": "code",
   "execution_count": 6,
   "id": "87e88073-c219-45b6-8586-9713bd8cf2db",
   "metadata": {},
   "outputs": [
    {
     "data": {
      "text/plain": [
       "(0, 1)"
      ]
     },
     "execution_count": 6,
     "metadata": {},
     "output_type": "execute_result"
    }
   ],
   "source": [
    "int(False), int(True)"
   ]
  },
  {
   "cell_type": "code",
   "execution_count": null,
   "id": "bf7cf820-d19e-4cbd-a9f0-43346fd0961c",
   "metadata": {},
   "outputs": [],
   "source": [
    "\"a\"*False, \"a\"*True"
   ]
  }
 ],
 "metadata": {
  "kernelspec": {
   "display_name": "Python 3 (ipykernel)",
   "language": "python",
   "name": "python3"
  },
  "language_info": {
   "codemirror_mode": {
    "name": "ipython",
    "version": 3
   },
   "file_extension": ".py",
   "mimetype": "text/x-python",
   "name": "python",
   "nbconvert_exporter": "python",
   "pygments_lexer": "ipython3",
   "version": "3.9.12"
  }
 },
 "nbformat": 4,
 "nbformat_minor": 5
}
