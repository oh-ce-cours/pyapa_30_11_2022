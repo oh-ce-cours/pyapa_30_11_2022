{
 "cells": [
  {
   "cell_type": "markdown",
   "id": "0d2ae2f1",
   "metadata": {},
   "source": [
    "# Tentative de programme\n",
    "\n",
    "* exercice sur les dictionnaires / sets \n",
    "\n",
    "* arguments de fonctions (`*args`, `**kwargs`, arguments mutables)\n",
    "* closures\n",
    "* fonctions d'ordre supérieur\n",
    "* décorateurs\n",
    "* générateurs / itérateurs"
   ]
  },
  {
   "cell_type": "markdown",
   "id": "6cc64318",
   "metadata": {},
   "source": [
    "# Rappels du jour 1\n",
    "\n",
    "* gestion des environnements virtuels \n",
    "* wheels\n",
    "* configuration VSCode\n",
    "    * linters \n",
    "        * `pylint` : linter généraliste + style\n",
    "        * `mypy` : linter spécialisé dans la vérification de type\n",
    "    * formateur\n",
    "        * `black`\n",
    "* début des fonctions d'ordre supérieur"
   ]
  },
  {
   "cell_type": "code",
   "execution_count": 2,
   "id": "c141248c",
   "metadata": {},
   "outputs": [
    {
     "name": "stdout",
     "output_type": "stream",
     "text": [
      "3\n",
      "None <class 'NoneType'>\n"
     ]
    }
   ],
   "source": [
    "def f(n):\n",
    "    print(n)\n",
    "\n",
    "a = f(3)\n",
    "print(a, type(a))"
   ]
  },
  {
   "cell_type": "code",
   "execution_count": 7,
   "id": "ba92cd73",
   "metadata": {},
   "outputs": [
    {
     "name": "stdout",
     "output_type": "stream",
     "text": [
      "1\n",
      "2\n",
      "3\n"
     ]
    }
   ],
   "source": [
    "print(\"\\n\".join([\"1\", \"2\", \"3\"]))"
   ]
  },
  {
   "cell_type": "code",
   "execution_count": 9,
   "id": "d87fa55d",
   "metadata": {},
   "outputs": [
    {
     "name": "stdout",
     "output_type": "stream",
     "text": [
      "0\n",
      "1\n",
      "2\n",
      "3\n",
      "4\n",
      "5\n",
      "6\n",
      "7\n",
      "8\n",
      "9\n"
     ]
    }
   ],
   "source": [
    "print(\"\\n\".join(map(lambda, range(10))))"
   ]
  },
  {
   "cell_type": "code",
   "execution_count": 11,
   "id": "a7527454",
   "metadata": {},
   "outputs": [
    {
     "data": {
      "text/plain": [
       "range(0, 100000000000000000000000000)"
      ]
     },
     "execution_count": 11,
     "metadata": {},
     "output_type": "execute_result"
    }
   ],
   "source": [
    "list(range(100_000_000_000_000_000_000_000_000))"
   ]
  },
  {
   "cell_type": "code",
   "execution_count": null,
   "id": "6d833ea6",
   "metadata": {},
   "outputs": [],
   "source": []
  }
 ],
 "metadata": {
  "kernelspec": {
   "display_name": "Python 3 (ipykernel)",
   "language": "python",
   "name": "python3"
  },
  "language_info": {
   "codemirror_mode": {
    "name": "ipython",
    "version": 3
   },
   "file_extension": ".py",
   "mimetype": "text/x-python",
   "name": "python",
   "nbconvert_exporter": "python",
   "pygments_lexer": "ipython3",
   "version": "3.9.12"
  }
 },
 "nbformat": 4,
 "nbformat_minor": 5
}
