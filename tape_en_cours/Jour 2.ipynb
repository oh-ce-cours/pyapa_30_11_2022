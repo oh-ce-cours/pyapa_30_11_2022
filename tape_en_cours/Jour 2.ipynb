{
 "cells": [
  {
   "cell_type": "markdown",
   "id": "0f05a0e0",
   "metadata": {},
   "source": [
    "# Tentative de programme\n",
    "\n",
    "* exercice sur les dictionnaires / sets \n",
    "\n",
    "* arguments de fonctions (`*args`, `**kwargs`, arguments mutables)\n",
    "* closures\n",
    "* fonctions d'ordre supérieur\n",
    "* décorateurs\n",
    "* générateurs / itérateurs"
   ]
  },
  {
   "cell_type": "markdown",
   "id": "0b6299f0",
   "metadata": {},
   "source": [
    "# Rappels du jour 1\n",
    "\n",
    "* gestion des environnements virtuels \n",
    "* wheels\n",
    "* configuration VSCode\n",
    "    * linters \n",
    "        * `pylint` : linter généraliste + style\n",
    "        * `mypy` : linter spécialisé dans la vérification de type\n",
    "    * formateur\n",
    "        * `black`\n",
    "* début des fonctions d'ordre supérieur"
   ]
  },
  {
   "cell_type": "code",
   "execution_count": 2,
   "id": "d133bfef",
   "metadata": {},
   "outputs": [
    {
     "name": "stdout",
     "output_type": "stream",
     "text": [
      "3\n",
      "None <class 'NoneType'>\n"
     ]
    }
   ],
   "source": [
    "def f(n):\n",
    "    print(n)\n",
    "\n",
    "a = f(3)\n",
    "print(a, type(a))"
   ]
  },
  {
   "cell_type": "code",
   "execution_count": 7,
   "id": "4419470f",
   "metadata": {},
   "outputs": [
    {
     "name": "stdout",
     "output_type": "stream",
     "text": [
      "1\n",
      "2\n",
      "3\n"
     ]
    }
   ],
   "source": [
    "print(\"\\n\".join([\"1\", \"2\", \"3\"]))"
   ]
  },
  {
   "cell_type": "code",
   "execution_count": 9,
   "id": "322c0897",
   "metadata": {},
   "outputs": [
    {
     "name": "stdout",
     "output_type": "stream",
     "text": [
      "0\n",
      "1\n",
      "2\n",
      "3\n",
      "4\n",
      "5\n",
      "6\n",
      "7\n",
      "8\n",
      "9\n"
     ]
    }
   ],
   "source": [
    "print(\"\\n\".join(map(lambda, range(10))))"
   ]
  },
  {
   "cell_type": "code",
   "execution_count": 18,
   "id": "aebd9aaa",
   "metadata": {},
   "outputs": [
    {
     "name": "stdout",
     "output_type": "stream",
     "text": [
      "0\n",
      "1000\n",
      "2000\n",
      "3000\n",
      "4000\n",
      "5000\n",
      "6000\n",
      "7000\n",
      "8000\n",
      "9000\n",
      "10000\n",
      "11000\n",
      "12000\n"
     ]
    }
   ],
   "source": [
    "for n in map(str, range(100_000_000_000_000)):\n",
    "    if int(n) % 1000 == 0:\n",
    "        print(n)\n",
    "    if n == \"12345\":\n",
    "        break"
   ]
  },
  {
   "cell_type": "code",
   "execution_count": 20,
   "id": "96fc5d8c",
   "metadata": {},
   "outputs": [
    {
     "name": "stdout",
     "output_type": "stream",
     "text": [
      "a\n",
      "b\n",
      "c\n"
     ]
    }
   ],
   "source": [
    "# Itération \n",
    "\n",
    "data = \"abc\" # [\"a\", \"b\", \"c\"]\n",
    "\n",
    "# INTERDIT\n",
    "# for index in range(len(data)):\n",
    "#     value = data[index]\n",
    "# FIN INTERDIT\n",
    "\n",
    "for value in data:\n",
    "    print(value)"
   ]
  },
  {
   "cell_type": "code",
   "execution_count": 27,
   "id": "71a97036",
   "metadata": {},
   "outputs": [
    {
     "name": "stdout",
     "output_type": "stream",
     "text": [
      "[0, 2, 4, 6, 8]\n",
      "[0, 2, 4, 6, 8]\n"
     ]
    }
   ],
   "source": [
    "import typing \n",
    "\n",
    "T = typing.TypeVar(\"T\")\n",
    "\n",
    "\n",
    "def est_pair(nombre):\n",
    "    return nombre % 2 == 0\n",
    "\n",
    "def my_filter(f: typing.Callable[T, bool], iterable: typing.Iterable[T]) -> list[T]:\n",
    "    res = []\n",
    "    for item in iterable:\n",
    "        if f(item):\n",
    "            res.append(item)\n",
    "    return res\n",
    "\n",
    "print(list(filter(est_pair, range(10))))\n",
    "print(list(my_filter(est_pair, range(10))))"
   ]
  },
  {
   "cell_type": "markdown",
   "id": "055bef29",
   "metadata": {},
   "source": [
    "# Dictionnaires / Sets"
   ]
  },
  {
   "cell_type": "code",
   "execution_count": 31,
   "id": "060d1530",
   "metadata": {},
   "outputs": [
    {
     "name": "stdout",
     "output_type": "stream",
     "text": [
      "{'cle': 'valeur', 'cle2': 'autre valeur'}\n",
      "valeur\n"
     ]
    }
   ],
   "source": [
    "d = {\"cle\":\"valeur\"}\n",
    "d[\"cle2\"] = \"autre valeur\"\n",
    "print(d)\n",
    "print(d[\"cle\"])"
   ]
  },
  {
   "cell_type": "code",
   "execution_count": 32,
   "id": "b981317d",
   "metadata": {},
   "outputs": [
    {
     "ename": "KeyError",
     "evalue": "'cle3'",
     "output_type": "error",
     "traceback": [
      "\u001b[1;31m---------------------------------------------------------------------------\u001b[0m",
      "\u001b[1;31mKeyError\u001b[0m                                  Traceback (most recent call last)",
      "Cell \u001b[1;32mIn[32], line 1\u001b[0m\n\u001b[1;32m----> 1\u001b[0m \u001b[43md\u001b[49m\u001b[43m[\u001b[49m\u001b[38;5;124;43m\"\u001b[39;49m\u001b[38;5;124;43mcle3\u001b[39;49m\u001b[38;5;124;43m\"\u001b[39;49m\u001b[43m]\u001b[49m\n",
      "\u001b[1;31mKeyError\u001b[0m: 'cle3'"
     ]
    }
   ],
   "source": [
    "d[\"cle3\"]"
   ]
  },
  {
   "cell_type": "code",
   "execution_count": null,
   "id": "f0faa869",
   "metadata": {},
   "outputs": [],
   "source": []
  }
 ],
 "metadata": {
  "kernelspec": {
   "display_name": "Python 3 (ipykernel)",
   "language": "python",
   "name": "python3"
  },
  "language_info": {
   "codemirror_mode": {
    "name": "ipython",
    "version": 3
   },
   "file_extension": ".py",
   "mimetype": "text/x-python",
   "name": "python",
   "nbconvert_exporter": "python",
   "pygments_lexer": "ipython3",
   "version": "3.9.12"
  }
 },
 "nbformat": 4,
 "nbformat_minor": 5
}
