{
 "cells": [
  {
   "cell_type": "markdown",
   "id": "02822549",
   "metadata": {},
   "source": [
    "# Tentative de programme\n",
    "\n",
    "* exercice sur les dictionnaires / sets \n",
    "\n",
    "* arguments de fonctions (`*args`, `**kwargs`, arguments mutables)\n",
    "* closures\n",
    "* fonctions d'ordre supérieur\n",
    "* décorateurs\n",
    "* générateurs / itérateurs"
   ]
  },
  {
   "cell_type": "markdown",
   "id": "5001b239",
   "metadata": {},
   "source": [
    "# Rappels du jour 1\n",
    "\n",
    "* gestion des environnements virtuels \n",
    "* wheels\n",
    "* configuration VSCode\n",
    "    * linters \n",
    "        * `pylint` : linter généraliste + style\n",
    "        * `mypy` : linter spécialisé dans la vérification de type\n",
    "    * formateur\n",
    "        * `black`\n",
    "* début des fonctions d'ordre supérieur"
   ]
  },
  {
   "cell_type": "code",
   "execution_count": 2,
   "id": "d3e01e19",
   "metadata": {},
   "outputs": [
    {
     "name": "stdout",
     "output_type": "stream",
     "text": [
      "3\n",
      "None <class 'NoneType'>\n"
     ]
    }
   ],
   "source": [
    "def f(n):\n",
    "    print(n)\n",
    "\n",
    "a = f(3)\n",
    "print(a, type(a))"
   ]
  },
  {
   "cell_type": "code",
   "execution_count": 7,
   "id": "c510b1a6",
   "metadata": {},
   "outputs": [
    {
     "name": "stdout",
     "output_type": "stream",
     "text": [
      "1\n",
      "2\n",
      "3\n"
     ]
    }
   ],
   "source": [
    "print(\"\\n\".join([\"1\", \"2\", \"3\"]))"
   ]
  },
  {
   "cell_type": "code",
   "execution_count": 9,
   "id": "f4aa6ebe",
   "metadata": {},
   "outputs": [
    {
     "name": "stdout",
     "output_type": "stream",
     "text": [
      "0\n",
      "1\n",
      "2\n",
      "3\n",
      "4\n",
      "5\n",
      "6\n",
      "7\n",
      "8\n",
      "9\n"
     ]
    }
   ],
   "source": [
    "print(\"\\n\".join(map(lambda, range(10))))"
   ]
  },
  {
   "cell_type": "code",
   "execution_count": 18,
   "id": "80662ca5",
   "metadata": {},
   "outputs": [
    {
     "name": "stdout",
     "output_type": "stream",
     "text": [
      "0\n",
      "1000\n",
      "2000\n",
      "3000\n",
      "4000\n",
      "5000\n",
      "6000\n",
      "7000\n",
      "8000\n",
      "9000\n",
      "10000\n",
      "11000\n",
      "12000\n"
     ]
    }
   ],
   "source": [
    "for n in map(str, range(100_000_000_000_000)):\n",
    "    if int(n) % 1000 == 0:\n",
    "        print(n)\n",
    "    if n == \"12345\":\n",
    "        break"
   ]
  },
  {
   "cell_type": "code",
   "execution_count": 20,
   "id": "05f2db0d",
   "metadata": {},
   "outputs": [
    {
     "name": "stdout",
     "output_type": "stream",
     "text": [
      "a\n",
      "b\n",
      "c\n"
     ]
    }
   ],
   "source": [
    "# Itération \n",
    "\n",
    "data = \"abc\" # [\"a\", \"b\", \"c\"]\n",
    "\n",
    "# INTERDIT\n",
    "# for index in range(len(data)):\n",
    "#     value = data[index]\n",
    "# FIN INTERDIT\n",
    "\n",
    "for value in data:\n",
    "    print(value)"
   ]
  },
  {
   "cell_type": "code",
   "execution_count": 27,
   "id": "a436fd06",
   "metadata": {},
   "outputs": [
    {
     "name": "stdout",
     "output_type": "stream",
     "text": [
      "[0, 2, 4, 6, 8]\n",
      "[0, 2, 4, 6, 8]\n"
     ]
    }
   ],
   "source": [
    "import typing \n",
    "\n",
    "T = typing.TypeVar(\"T\")\n",
    "\n",
    "\n",
    "def est_pair(nombre):\n",
    "    return nombre % 2 == 0\n",
    "\n",
    "def my_filter(f: typing.Callable[T, bool], iterable: typing.Iterable[T]) -> list[T]:\n",
    "    res = []\n",
    "    for item in iterable:\n",
    "        if f(item):\n",
    "            res.append(item)\n",
    "    return res\n",
    "\n",
    "print(list(filter(est_pair, range(10))))\n",
    "print(list(my_filter(est_pair, range(10))))"
   ]
  },
  {
   "cell_type": "markdown",
   "id": "908978a2",
   "metadata": {},
   "source": [
    "# Dictionnaires / Sets"
   ]
  },
  {
   "cell_type": "code",
   "execution_count": 31,
   "id": "33225241",
   "metadata": {},
   "outputs": [
    {
     "name": "stdout",
     "output_type": "stream",
     "text": [
      "{'cle': 'valeur', 'cle2': 'autre valeur'}\n",
      "valeur\n"
     ]
    }
   ],
   "source": [
    "d = {\"cle\":\"valeur\"}\n",
    "d[\"cle2\"] = \"autre valeur\"\n",
    "print(d)\n",
    "print(d[\"cle\"])"
   ]
  },
  {
   "cell_type": "code",
   "execution_count": 33,
   "id": "30493a0b",
   "metadata": {},
   "outputs": [
    {
     "ename": "TypeError",
     "evalue": "unhashable type: 'list'",
     "output_type": "error",
     "traceback": [
      "\u001b[1;31m---------------------------------------------------------------------------\u001b[0m",
      "\u001b[1;31mTypeError\u001b[0m                                 Traceback (most recent call last)",
      "Cell \u001b[1;32mIn[33], line 2\u001b[0m\n\u001b[0;32m      1\u001b[0m ma_cle \u001b[38;5;241m=\u001b[39m [\u001b[38;5;241m1\u001b[39m, \u001b[38;5;241m2\u001b[39m, \u001b[38;5;241m3\u001b[39m]\n\u001b[1;32m----> 2\u001b[0m \u001b[43md\u001b[49m\u001b[43m[\u001b[49m\u001b[43mma_cle\u001b[49m\u001b[43m]\u001b[49m \u001b[38;5;241m=\u001b[39m \u001b[38;5;241m2\u001b[39m\n",
      "\u001b[1;31mTypeError\u001b[0m: unhashable type: 'list'"
     ]
    }
   ],
   "source": [
    "ma_cle = [1, 2, 3]\n",
    "d[ma_cle] = 2"
   ]
  },
  {
   "cell_type": "code",
   "execution_count": 35,
   "id": "d8849942",
   "metadata": {},
   "outputs": [
    {
     "name": "stdout",
     "output_type": "stream",
     "text": [
      "{'cle': 'valeur', 'cle2': 'autre valeur', (1, 2, 3): 2}\n"
     ]
    }
   ],
   "source": [
    "ma_cle = (1, 2, 3)\n",
    "d[ma_cle] = 2\n",
    "\n",
    "print(d)"
   ]
  },
  {
   "cell_type": "code",
   "execution_count": 49,
   "id": "a1b391cc",
   "metadata": {},
   "outputs": [
    {
     "name": "stdout",
     "output_type": "stream",
     "text": [
      "{'username': 'mfalce'}\n"
     ]
    }
   ],
   "source": [
    "# renommage de clés de dictionnaire\n",
    "d = {\"user\": \"mfalce\"}\n",
    "d[\"username\"] = d.pop(\"user\")\n",
    "print(d)"
   ]
  },
  {
   "cell_type": "code",
   "execution_count": 58,
   "id": "6d64247f",
   "metadata": {},
   "outputs": [
    {
     "name": "stdout",
     "output_type": "stream",
     "text": [
      "{'title': 'User', 'type': 'object', 'properties': {'name': {'title': 'Name', 'type': 'string'}, 'iban': {'title': 'IBAN', 'description': 'International Bank Account Number', 'type': 'string'}}, 'required': ['user', 'iban']} <class 'dict'>\n"
     ]
    }
   ],
   "source": [
    "chaine_json = \"\"\"\n",
    "{\n",
    "  \"title\": \"User\",\n",
    "  \"type\": \"object\",\n",
    "  \"properties\": {\n",
    "    \"name\": {\n",
    "      \"title\": \"Name\",\n",
    "      \"type\": \"string\"\n",
    "    },\n",
    "    \"iban\": {\n",
    "      \"title\": \"IBAN\",\n",
    "      \"description\": \"International Bank Account Number\",\n",
    "      \"type\": \"string\"\n",
    "    }\n",
    "  },\n",
    "  \"required\": [\"user\", \"iban\"]\n",
    "}\n",
    "\"\"\"\n",
    "\n",
    "import json\n",
    "\n",
    "d = json.loads(chaine_json)\n",
    "print(d, type(d))\n",
    "d[\"properties\"][\"iban\"][\"description\"] = \"toto\""
   ]
  },
  {
   "cell_type": "code",
   "execution_count": 59,
   "id": "79a3c593",
   "metadata": {},
   "outputs": [
    {
     "name": "stdout",
     "output_type": "stream",
     "text": [
      "{\n",
      "  \"title\": \"User\",\n",
      "  \"type\": \"object\",\n",
      "  \"properties\": {\n",
      "    \"name\": {\n",
      "      \"title\": \"Name\",\n",
      "      \"type\": \"string\"\n",
      "    },\n",
      "    \"iban\": {\n",
      "      \"title\": \"IBAN\",\n",
      "      \"description\": \"toto\",\n",
      "      \"type\": \"string\"\n",
      "    }\n",
      "  },\n",
      "  \"required\": [\n",
      "    \"user\",\n",
      "    \"iban\"\n",
      "  ]\n",
      "}\n"
     ]
    }
   ],
   "source": [
    "print(json.dumps(d, indent=2))"
   ]
  },
  {
   "cell_type": "code",
   "execution_count": 60,
   "id": "d9a7037c",
   "metadata": {},
   "outputs": [
    {
     "name": "stdout",
     "output_type": "stream",
     "text": [
      "{'type': 'object', 'properties': {'name': {'title': 'Name', 'type': 'string'}, 'iban': {'title': 'IBAN', 'description': 'toto', 'type': 'string'}}, 'required': ['user', 'iban']}\n"
     ]
    }
   ],
   "source": [
    "d.pop(\"title\")\n",
    "print(d)"
   ]
  },
  {
   "cell_type": "code",
   "execution_count": null,
   "id": "f50563cd",
   "metadata": {},
   "outputs": [],
   "source": []
  }
 ],
 "metadata": {
  "kernelspec": {
   "display_name": "Python 3 (ipykernel)",
   "language": "python",
   "name": "python3"
  },
  "language_info": {
   "codemirror_mode": {
    "name": "ipython",
    "version": 3
   },
   "file_extension": ".py",
   "mimetype": "text/x-python",
   "name": "python",
   "nbconvert_exporter": "python",
   "pygments_lexer": "ipython3",
   "version": "3.9.12"
  }
 },
 "nbformat": 4,
 "nbformat_minor": 5
}
