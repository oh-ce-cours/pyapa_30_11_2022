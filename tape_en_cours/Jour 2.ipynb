{
 "cells": [
  {
   "cell_type": "markdown",
   "id": "174efc40",
   "metadata": {},
   "source": [
    "# Tentative de programme\n",
    "\n",
    "* exercice sur les dictionnaires / sets \n",
    "\n",
    "* arguments de fonctions (`*args`, `**kwargs`, arguments mutables)\n",
    "* closures\n",
    "* fonctions d'ordre supérieur\n",
    "* décorateurs\n",
    "* générateurs / itérateurs"
   ]
  },
  {
   "cell_type": "markdown",
   "id": "c2d908db",
   "metadata": {},
   "source": [
    "# Rappels du jour 1\n",
    "\n",
    "* gestion des environnements virtuels \n",
    "* wheels\n",
    "* configuration VSCode\n",
    "    * linters \n",
    "        * `pylint` : linter généraliste + style\n",
    "        * `mypy` : linter spécialisé dans la vérification de type\n",
    "    * formateur\n",
    "        * `black`\n",
    "* début des fonctions d'ordre supérieur"
   ]
  },
  {
   "cell_type": "code",
   "execution_count": 2,
   "id": "6f1881e9",
   "metadata": {},
   "outputs": [
    {
     "name": "stdout",
     "output_type": "stream",
     "text": [
      "3\n",
      "None <class 'NoneType'>\n"
     ]
    }
   ],
   "source": [
    "def f(n):\n",
    "    print(n)\n",
    "\n",
    "a = f(3)\n",
    "print(a, type(a))"
   ]
  },
  {
   "cell_type": "code",
   "execution_count": 7,
   "id": "d8594cca",
   "metadata": {},
   "outputs": [
    {
     "name": "stdout",
     "output_type": "stream",
     "text": [
      "1\n",
      "2\n",
      "3\n"
     ]
    }
   ],
   "source": [
    "print(\"\\n\".join([\"1\", \"2\", \"3\"]))"
   ]
  },
  {
   "cell_type": "code",
   "execution_count": 9,
   "id": "4f8bcfcb",
   "metadata": {},
   "outputs": [
    {
     "name": "stdout",
     "output_type": "stream",
     "text": [
      "0\n",
      "1\n",
      "2\n",
      "3\n",
      "4\n",
      "5\n",
      "6\n",
      "7\n",
      "8\n",
      "9\n"
     ]
    }
   ],
   "source": [
    "print(\"\\n\".join(map(lambda, range(10))))"
   ]
  },
  {
   "cell_type": "code",
   "execution_count": 18,
   "id": "2e767e97",
   "metadata": {},
   "outputs": [
    {
     "name": "stdout",
     "output_type": "stream",
     "text": [
      "0\n",
      "1000\n",
      "2000\n",
      "3000\n",
      "4000\n",
      "5000\n",
      "6000\n",
      "7000\n",
      "8000\n",
      "9000\n",
      "10000\n",
      "11000\n",
      "12000\n"
     ]
    }
   ],
   "source": [
    "for n in map(str, range(100_000_000_000_000)):\n",
    "    if int(n) % 1000 == 0:\n",
    "        print(n)\n",
    "    if n == \"12345\":\n",
    "        break"
   ]
  },
  {
   "cell_type": "code",
   "execution_count": 20,
   "id": "9ae9ecf6",
   "metadata": {},
   "outputs": [
    {
     "name": "stdout",
     "output_type": "stream",
     "text": [
      "a\n",
      "b\n",
      "c\n"
     ]
    }
   ],
   "source": [
    "# Itération \n",
    "\n",
    "data = \"abc\" # [\"a\", \"b\", \"c\"]\n",
    "\n",
    "# INTERDIT\n",
    "# for index in range(len(data)):\n",
    "#     value = data[index]\n",
    "# FIN INTERDIT\n",
    "\n",
    "for value in data:\n",
    "    print(value)"
   ]
  },
  {
   "cell_type": "code",
   "execution_count": 27,
   "id": "12de6889",
   "metadata": {},
   "outputs": [
    {
     "name": "stdout",
     "output_type": "stream",
     "text": [
      "[0, 2, 4, 6, 8]\n",
      "[0, 2, 4, 6, 8]\n"
     ]
    }
   ],
   "source": [
    "import typing \n",
    "\n",
    "T = typing.TypeVar(\"T\")\n",
    "\n",
    "\n",
    "def est_pair(nombre):\n",
    "    return nombre % 2 == 0\n",
    "\n",
    "def my_filter(f: typing.Callable[T, bool], iterable: typing.Iterable[T]) -> list[T]:\n",
    "    res = []\n",
    "    for item in iterable:\n",
    "        if f(item):\n",
    "            res.append(item)\n",
    "    return res\n",
    "\n",
    "print(list(filter(est_pair, range(10))))\n",
    "print(list(my_filter(est_pair, range(10))))"
   ]
  },
  {
   "cell_type": "markdown",
   "id": "9bf7095b",
   "metadata": {},
   "source": [
    "# Dictionnaires / Sets"
   ]
  },
  {
   "cell_type": "code",
   "execution_count": 31,
   "id": "34efe1f4",
   "metadata": {},
   "outputs": [
    {
     "name": "stdout",
     "output_type": "stream",
     "text": [
      "{'cle': 'valeur', 'cle2': 'autre valeur'}\n",
      "valeur\n"
     ]
    }
   ],
   "source": [
    "d = {\"cle\":\"valeur\"}\n",
    "d[\"cle2\"] = \"autre valeur\"\n",
    "print(d)\n",
    "print(d[\"cle\"])"
   ]
  },
  {
   "cell_type": "code",
   "execution_count": 33,
   "id": "14ed24c5",
   "metadata": {},
   "outputs": [
    {
     "ename": "TypeError",
     "evalue": "unhashable type: 'list'",
     "output_type": "error",
     "traceback": [
      "\u001b[1;31m---------------------------------------------------------------------------\u001b[0m",
      "\u001b[1;31mTypeError\u001b[0m                                 Traceback (most recent call last)",
      "Cell \u001b[1;32mIn[33], line 2\u001b[0m\n\u001b[0;32m      1\u001b[0m ma_cle \u001b[38;5;241m=\u001b[39m [\u001b[38;5;241m1\u001b[39m, \u001b[38;5;241m2\u001b[39m, \u001b[38;5;241m3\u001b[39m]\n\u001b[1;32m----> 2\u001b[0m \u001b[43md\u001b[49m\u001b[43m[\u001b[49m\u001b[43mma_cle\u001b[49m\u001b[43m]\u001b[49m \u001b[38;5;241m=\u001b[39m \u001b[38;5;241m2\u001b[39m\n",
      "\u001b[1;31mTypeError\u001b[0m: unhashable type: 'list'"
     ]
    }
   ],
   "source": [
    "ma_cle = [1, 2, 3]\n",
    "d[ma_cle] = 2"
   ]
  },
  {
   "cell_type": "code",
   "execution_count": 35,
   "id": "0df6a17f",
   "metadata": {},
   "outputs": [
    {
     "name": "stdout",
     "output_type": "stream",
     "text": [
      "{'cle': 'valeur', 'cle2': 'autre valeur', (1, 2, 3): 2}\n"
     ]
    }
   ],
   "source": [
    "ma_cle = (1, 2, 3)\n",
    "d[ma_cle] = 2\n",
    "\n",
    "print(d)"
   ]
  },
  {
   "cell_type": "code",
   "execution_count": 49,
   "id": "36b664bf",
   "metadata": {},
   "outputs": [
    {
     "name": "stdout",
     "output_type": "stream",
     "text": [
      "{'username': 'mfalce'}\n"
     ]
    }
   ],
   "source": [
    "# renommage de clés de dictionnaire\n",
    "d = {\"user\": \"mfalce\"}\n",
    "d[\"username\"] = d.pop(\"user\")\n",
    "print(d)"
   ]
  },
  {
   "cell_type": "code",
   "execution_count": 61,
   "id": "0a3cef50",
   "metadata": {},
   "outputs": [
    {
     "name": "stdout",
     "output_type": "stream",
     "text": [
      "{'title': 'User', 'type': 'object', 'properties': {'name': {'title': 'Name', 'type': 'string'}, 'iban': {'title': 'IBAN', 'description': 'International Bank Account Number', 'type': 'string'}}, 'required': ['user', 'iban']} <class 'dict'>\n"
     ]
    }
   ],
   "source": [
    "chaine_json = \"\"\"\n",
    "{\n",
    "  \"title\": \"User\",\n",
    "  \"type\": \"object\",\n",
    "  \"properties\": {\n",
    "    \"name\": {\n",
    "      \"title\": \"Name\",\n",
    "      \"type\": \"string\"\n",
    "    },\n",
    "    \"iban\": {\n",
    "      \"title\": \"IBAN\",\n",
    "      \"description\": \"International Bank Account Number\",\n",
    "      \"type\": \"string\"\n",
    "    }\n",
    "  },\n",
    "  \"required\": [\"user\", \"iban\"]\n",
    "}\n",
    "\"\"\"\n",
    "\n",
    "import json\n",
    "\n",
    "d = json.loads(chaine_json)\n",
    "print(d, type(d))\n",
    "d[\"properties\"][\"iban\"][\"description\"] = \"toto\""
   ]
  },
  {
   "cell_type": "code",
   "execution_count": 62,
   "id": "d89f092b",
   "metadata": {},
   "outputs": [
    {
     "name": "stdout",
     "output_type": "stream",
     "text": [
      "{\n",
      "  \"title\": \"User\",\n",
      "  \"type\": \"object\",\n",
      "  \"properties\": {\n",
      "    \"name\": {\n",
      "      \"title\": \"Name\",\n",
      "      \"type\": \"string\"\n",
      "    },\n",
      "    \"iban\": {\n",
      "      \"title\": \"IBAN\",\n",
      "      \"description\": \"toto\",\n",
      "      \"type\": \"string\"\n",
      "    }\n",
      "  },\n",
      "  \"required\": [\n",
      "    \"user\",\n",
      "    \"iban\"\n",
      "  ]\n",
      "}\n"
     ]
    }
   ],
   "source": [
    "print(json.dumps(d, indent=2))"
   ]
  },
  {
   "cell_type": "code",
   "execution_count": 64,
   "id": "0c885c7d",
   "metadata": {},
   "outputs": [
    {
     "name": "stdout",
     "output_type": "stream",
     "text": [
      "User\n",
      "{'type': 'object', 'properties': {'name': {'title': 'Name', 'type': 'string'}, 'iban': {'title': 'IBAN', 'description': 'toto', 'type': 'string'}}, 'required': ['user', 'iban']}\n"
     ]
    }
   ],
   "source": [
    "print(d.pop(\"title\"))\n",
    "print(d)"
   ]
  },
  {
   "cell_type": "code",
   "execution_count": 66,
   "id": "03ab33dc",
   "metadata": {},
   "outputs": [
    {
     "name": "stdout",
     "output_type": "stream",
     "text": [
      "{'cle': 2}\n",
      "{'cle': 3}\n"
     ]
    }
   ],
   "source": [
    "d = {\"cle\": 1, \"cle\": 2}\n",
    "print(d)\n",
    "d[\"cle\"] = 3\n",
    "print(d)"
   ]
  },
  {
   "cell_type": "code",
   "execution_count": 71,
   "id": "f11ce910",
   "metadata": {},
   "outputs": [
    {
     "data": {
      "text/plain": [
       "'La lettre B appait 1 fois'"
      ]
     },
     "execution_count": 71,
     "metadata": {},
     "output_type": "execute_result"
    }
   ],
   "source": [
    "sujet = \"Bienvenue chez Matthieu Falce Consulting\"\n",
    "res = []\n",
    "for lettre in sujet:\n",
    "    res.append((lettre, sujet.count(lettre)))\n",
    "\n",
    "\n",
    "\n",
    "\"La lettre B appait 1 fois\""
   ]
  },
  {
   "cell_type": "code",
   "execution_count": 84,
   "id": "54481f42",
   "metadata": {},
   "outputs": [
    {
     "name": "stdout",
     "output_type": "stream",
     "text": [
      "La lettre B apparait 32.5 fois\n",
      "La lettre B apparait 32.5 fois\n",
      "La lettre 32.5 apparait B\n"
     ]
    }
   ],
   "source": [
    "lettre = \"B\"\n",
    "nombre = 32.5\n",
    "\n",
    "print(\"La lettre \" + lettre + \" apparait \" + str(nombre) + \" fois\")\n",
    "print(\"La lettre %c apparait %.1f fois\" % (lettre, nombre))\n",
    "print(\"La lettre {lettre} apparait {nombre}\".format({lettre, nombre))"
   ]
  },
  {
   "cell_type": "markdown",
   "id": "12df030a",
   "metadata": {},
   "source": [
    "## Rappels du matin \n",
    "\n",
    "* programmation fonctionnelle\n",
    "* dictionnaires"
   ]
  },
  {
   "cell_type": "code",
   "execution_count": null,
   "id": "b0eb153f",
   "metadata": {},
   "outputs": [],
   "source": []
  }
 ],
 "metadata": {
  "kernelspec": {
   "display_name": "Python 3 (ipykernel)",
   "language": "python",
   "name": "python3"
  },
  "language_info": {
   "codemirror_mode": {
    "name": "ipython",
    "version": 3
   },
   "file_extension": ".py",
   "mimetype": "text/x-python",
   "name": "python",
   "nbconvert_exporter": "python",
   "pygments_lexer": "ipython3",
   "version": "3.9.12"
  }
 },
 "nbformat": 4,
 "nbformat_minor": 5
}
