{
 "cells": [
  {
   "cell_type": "markdown",
   "id": "16d75756",
   "metadata": {},
   "source": [
    "# Tentative de programme\n",
    "\n",
    "* exercice sur les dictionnaires / sets \n",
    "\n",
    "* arguments de fonctions (`*args`, `**kwargs`, arguments mutables)\n",
    "* closures\n",
    "* fonctions d'ordre supérieur\n",
    "* décorateurs\n",
    "* générateurs / itérateurs"
   ]
  },
  {
   "cell_type": "markdown",
   "id": "f3b21dd5",
   "metadata": {},
   "source": [
    "# Rappels du jour 1\n",
    "\n",
    "* gestion des environnements virtuels \n",
    "* wheels\n",
    "* configuration VSCode\n",
    "    * linters \n",
    "        * `pylint` : linter généraliste + style\n",
    "        * `mypy` : linter spécialisé dans la vérification de type\n",
    "    * formateur\n",
    "        * `black`\n",
    "* début des fonctions d'ordre supérieur"
   ]
  },
  {
   "cell_type": "code",
   "execution_count": 2,
   "id": "39a2ee72",
   "metadata": {},
   "outputs": [
    {
     "name": "stdout",
     "output_type": "stream",
     "text": [
      "3\n",
      "None <class 'NoneType'>\n"
     ]
    }
   ],
   "source": [
    "def f(n):\n",
    "    print(n)\n",
    "\n",
    "a = f(3)\n",
    "print(a, type(a))"
   ]
  },
  {
   "cell_type": "code",
   "execution_count": 7,
   "id": "2a366447",
   "metadata": {},
   "outputs": [
    {
     "name": "stdout",
     "output_type": "stream",
     "text": [
      "1\n",
      "2\n",
      "3\n"
     ]
    }
   ],
   "source": [
    "print(\"\\n\".join([\"1\", \"2\", \"3\"]))"
   ]
  },
  {
   "cell_type": "code",
   "execution_count": 9,
   "id": "3e2aaffb",
   "metadata": {},
   "outputs": [
    {
     "name": "stdout",
     "output_type": "stream",
     "text": [
      "0\n",
      "1\n",
      "2\n",
      "3\n",
      "4\n",
      "5\n",
      "6\n",
      "7\n",
      "8\n",
      "9\n"
     ]
    }
   ],
   "source": [
    "print(\"\\n\".join(map(lambda, range(10))))"
   ]
  },
  {
   "cell_type": "code",
   "execution_count": 18,
   "id": "81ac4006",
   "metadata": {},
   "outputs": [
    {
     "name": "stdout",
     "output_type": "stream",
     "text": [
      "0\n",
      "1000\n",
      "2000\n",
      "3000\n",
      "4000\n",
      "5000\n",
      "6000\n",
      "7000\n",
      "8000\n",
      "9000\n",
      "10000\n",
      "11000\n",
      "12000\n"
     ]
    }
   ],
   "source": [
    "for n in map(str, range(100_000_000_000_000)):\n",
    "    if int(n) % 1000 == 0:\n",
    "        print(n)\n",
    "    if n == \"12345\":\n",
    "        break"
   ]
  },
  {
   "cell_type": "code",
   "execution_count": 20,
   "id": "42aa6dd6",
   "metadata": {},
   "outputs": [
    {
     "name": "stdout",
     "output_type": "stream",
     "text": [
      "a\n",
      "b\n",
      "c\n"
     ]
    }
   ],
   "source": [
    "# Itération \n",
    "\n",
    "data = \"abc\" # [\"a\", \"b\", \"c\"]\n",
    "\n",
    "# INTERDIT\n",
    "# for index in range(len(data)):\n",
    "#     value = data[index]\n",
    "# FIN INTERDIT\n",
    "\n",
    "for value in data:\n",
    "    print(value)"
   ]
  },
  {
   "cell_type": "code",
   "execution_count": 27,
   "id": "e6501f15",
   "metadata": {},
   "outputs": [
    {
     "name": "stdout",
     "output_type": "stream",
     "text": [
      "[0, 2, 4, 6, 8]\n",
      "[0, 2, 4, 6, 8]\n"
     ]
    }
   ],
   "source": [
    "import typing \n",
    "\n",
    "T = typing.TypeVar(\"T\")\n",
    "\n",
    "\n",
    "def est_pair(nombre):\n",
    "    return nombre % 2 == 0\n",
    "\n",
    "def my_filter(f: typing.Callable[T, bool], iterable: typing.Iterable[T]) -> list[T]:\n",
    "    res = []\n",
    "    for item in iterable:\n",
    "        if f(item):\n",
    "            res.append(item)\n",
    "    return res\n",
    "\n",
    "print(list(filter(est_pair, range(10))))\n",
    "print(list(my_filter(est_pair, range(10))))"
   ]
  },
  {
   "cell_type": "markdown",
   "id": "2c513c0f",
   "metadata": {},
   "source": [
    "# Dictionnaires / Sets"
   ]
  },
  {
   "cell_type": "code",
   "execution_count": 31,
   "id": "b132951c",
   "metadata": {},
   "outputs": [
    {
     "name": "stdout",
     "output_type": "stream",
     "text": [
      "{'cle': 'valeur', 'cle2': 'autre valeur'}\n",
      "valeur\n"
     ]
    }
   ],
   "source": [
    "d = {\"cle\":\"valeur\"}\n",
    "d[\"cle2\"] = \"autre valeur\"\n",
    "print(d)\n",
    "print(d[\"cle\"])"
   ]
  },
  {
   "cell_type": "code",
   "execution_count": 33,
   "id": "085200e2",
   "metadata": {},
   "outputs": [
    {
     "ename": "TypeError",
     "evalue": "unhashable type: 'list'",
     "output_type": "error",
     "traceback": [
      "\u001b[1;31m---------------------------------------------------------------------------\u001b[0m",
      "\u001b[1;31mTypeError\u001b[0m                                 Traceback (most recent call last)",
      "Cell \u001b[1;32mIn[33], line 2\u001b[0m\n\u001b[0;32m      1\u001b[0m ma_cle \u001b[38;5;241m=\u001b[39m [\u001b[38;5;241m1\u001b[39m, \u001b[38;5;241m2\u001b[39m, \u001b[38;5;241m3\u001b[39m]\n\u001b[1;32m----> 2\u001b[0m \u001b[43md\u001b[49m\u001b[43m[\u001b[49m\u001b[43mma_cle\u001b[49m\u001b[43m]\u001b[49m \u001b[38;5;241m=\u001b[39m \u001b[38;5;241m2\u001b[39m\n",
      "\u001b[1;31mTypeError\u001b[0m: unhashable type: 'list'"
     ]
    }
   ],
   "source": [
    "ma_cle = [1, 2, 3]\n",
    "d[ma_cle] = 2"
   ]
  },
  {
   "cell_type": "code",
   "execution_count": 35,
   "id": "3271c8d7",
   "metadata": {},
   "outputs": [
    {
     "name": "stdout",
     "output_type": "stream",
     "text": [
      "{'cle': 'valeur', 'cle2': 'autre valeur', (1, 2, 3): 2}\n"
     ]
    }
   ],
   "source": [
    "ma_cle = (1, 2, 3)\n",
    "d[ma_cle] = 2\n",
    "\n",
    "print(d)"
   ]
  },
  {
   "cell_type": "code",
   "execution_count": 49,
   "id": "76d1b027",
   "metadata": {},
   "outputs": [
    {
     "name": "stdout",
     "output_type": "stream",
     "text": [
      "{'username': 'mfalce'}\n"
     ]
    }
   ],
   "source": [
    "# renommage de clés de dictionnaire\n",
    "d = {\"user\": \"mfalce\"}\n",
    "d[\"username\"] = d.pop(\"user\")\n",
    "print(d)"
   ]
  },
  {
   "cell_type": "code",
   "execution_count": 61,
   "id": "ae2e1070",
   "metadata": {},
   "outputs": [
    {
     "name": "stdout",
     "output_type": "stream",
     "text": [
      "{'title': 'User', 'type': 'object', 'properties': {'name': {'title': 'Name', 'type': 'string'}, 'iban': {'title': 'IBAN', 'description': 'International Bank Account Number', 'type': 'string'}}, 'required': ['user', 'iban']} <class 'dict'>\n"
     ]
    }
   ],
   "source": [
    "chaine_json = \"\"\"\n",
    "{\n",
    "  \"title\": \"User\",\n",
    "  \"type\": \"object\",\n",
    "  \"properties\": {\n",
    "    \"name\": {\n",
    "      \"title\": \"Name\",\n",
    "      \"type\": \"string\"\n",
    "    },\n",
    "    \"iban\": {\n",
    "      \"title\": \"IBAN\",\n",
    "      \"description\": \"International Bank Account Number\",\n",
    "      \"type\": \"string\"\n",
    "    }\n",
    "  },\n",
    "  \"required\": [\"user\", \"iban\"]\n",
    "}\n",
    "\"\"\"\n",
    "\n",
    "import json\n",
    "\n",
    "d = json.loads(chaine_json)\n",
    "print(d, type(d))\n",
    "d[\"properties\"][\"iban\"][\"description\"] = \"toto\""
   ]
  },
  {
   "cell_type": "code",
   "execution_count": 62,
   "id": "6b26a8c1",
   "metadata": {},
   "outputs": [
    {
     "name": "stdout",
     "output_type": "stream",
     "text": [
      "{\n",
      "  \"title\": \"User\",\n",
      "  \"type\": \"object\",\n",
      "  \"properties\": {\n",
      "    \"name\": {\n",
      "      \"title\": \"Name\",\n",
      "      \"type\": \"string\"\n",
      "    },\n",
      "    \"iban\": {\n",
      "      \"title\": \"IBAN\",\n",
      "      \"description\": \"toto\",\n",
      "      \"type\": \"string\"\n",
      "    }\n",
      "  },\n",
      "  \"required\": [\n",
      "    \"user\",\n",
      "    \"iban\"\n",
      "  ]\n",
      "}\n"
     ]
    }
   ],
   "source": [
    "print(json.dumps(d, indent=2))"
   ]
  },
  {
   "cell_type": "code",
   "execution_count": 64,
   "id": "ebabed6e",
   "metadata": {},
   "outputs": [
    {
     "name": "stdout",
     "output_type": "stream",
     "text": [
      "User\n",
      "{'type': 'object', 'properties': {'name': {'title': 'Name', 'type': 'string'}, 'iban': {'title': 'IBAN', 'description': 'toto', 'type': 'string'}}, 'required': ['user', 'iban']}\n"
     ]
    }
   ],
   "source": [
    "print(d.pop(\"title\"))\n",
    "print(d)"
   ]
  },
  {
   "cell_type": "code",
   "execution_count": 66,
   "id": "9c45c7da",
   "metadata": {},
   "outputs": [
    {
     "name": "stdout",
     "output_type": "stream",
     "text": [
      "{'cle': 2}\n",
      "{'cle': 3}\n"
     ]
    }
   ],
   "source": [
    "d = {\"cle\": 1, \"cle\": 2}\n",
    "print(d)\n",
    "d[\"cle\"] = 3\n",
    "print(d)"
   ]
  },
  {
   "cell_type": "code",
   "execution_count": 126,
   "id": "18366737",
   "metadata": {},
   "outputs": [
    {
     "name": "stdout",
     "output_type": "stream",
     "text": [
      "La lettre B apparait 1 fois\n",
      "La lettre i apparait 3 fois\n",
      "La lettre e apparait 6 fois\n",
      "La lettre n apparait 4 fois\n",
      "La lettre v apparait 1 fois\n",
      "La lettre u apparait 3 fois\n",
      "La lettre   apparait 4 fois\n",
      "La lettre c apparait 2 fois\n",
      "La lettre h apparait 2 fois\n",
      "La lettre z apparait 1 fois\n",
      "La lettre M apparait 1 fois\n",
      "La lettre a apparait 2 fois\n",
      "La lettre t apparait 3 fois\n",
      "La lettre F apparait 1 fois\n",
      "La lettre l apparait 2 fois\n",
      "La lettre C apparait 1 fois\n",
      "La lettre o apparait 1 fois\n",
      "La lettre s apparait 1 fois\n",
      "La lettre g apparait 1 fois\n"
     ]
    },
    {
     "data": {
      "text/plain": [
       "dict_items([('B', 1), ('i', 3), ('e', 6), ('n', 4), ('v', 1), ('u', 3), (' ', 4), ('c', 2), ('h', 2), ('z', 1), ('M', 1), ('a', 2), ('t', 3), ('F', 1), ('l', 2), ('C', 1), ('o', 1), ('s', 1), ('g', 1)])"
      ]
     },
     "execution_count": 126,
     "metadata": {},
     "output_type": "execute_result"
    }
   ],
   "source": [
    "### sujet = \"Bienvenue chez Matthieu Falce Consulting\"\n",
    "\n",
    "def comptage_sans_dictionnaire(sujet):\n",
    "    res = []\n",
    "    for lettre in sujet:\n",
    "        lettres_vues = []\n",
    "        for tmp_lettre, count in res:\n",
    "            lettres_vues.append(tmp_lettre)\n",
    "        if lettre not in lettres_vues:\n",
    "            res.append((lettre, sujet.count(lettre)))\n",
    "    return res\n",
    "\n",
    "def comptage_avec_dictionnaire(sujet):\n",
    "    compteur = {}\n",
    "    for lettre in sujet:\n",
    "        if lettre not in compteur:\n",
    "            compteur[lettre] = 0\n",
    "        compteur[lettre] += 1\n",
    "        #compteur[lettre] = compteur.get(lettre, 0) + 1\n",
    "    return compteur\n",
    "\n",
    "\n",
    "#print(res)\n",
    "# for item in res:\n",
    "#    lettre, count = item\n",
    "#    print(f\"La lettre {lettre} apparait {count} fois\")\n",
    "    \n",
    "#for lettre, count in comptage_sans_dictionnaire(sujet):\n",
    "#    print(f\"La lettre {lettre} apparait {count} fois\")\n",
    "    \n",
    "d = comptage_avec_dictionnaire(sujet)\n",
    "for lettre, count in d.items():\n",
    "    print(f\"La lettre {lettre} apparait {count} fois\")\n",
    "\n",
    "d.items()"
   ]
  },
  {
   "cell_type": "markdown",
   "id": "049b7e4a",
   "metadata": {},
   "source": [
    "# Fstrings \n",
    "\n",
    "* ressource : https://fstring.help/cheat/"
   ]
  },
  {
   "cell_type": "code",
   "execution_count": 96,
   "id": "f728408f",
   "metadata": {},
   "outputs": [
    {
     "name": "stdout",
     "output_type": "stream",
     "text": [
      "La lettre B apparait 32.5 fois\n",
      "La lettre B apparait 32.5 fois\n",
      "La lettre B apparait 32.5 fois\n",
      "La lettre B apparait 00000032.5 fois\n"
     ]
    }
   ],
   "source": [
    "lettre = \"B\"\n",
    "nombre = 32.5\n",
    "\n",
    "print(\"La lettre \" + lettre + \" apparait \" + str(nombre) + \" fois\")\n",
    "print(\"La lettre %c apparait %.1f fois\" % (lettre, nombre))\n",
    "print(\"La lettre {ma_lettre} apparait {nombre} fois\".format(ma_lettre=lettre, nombre=nombre))\n",
    "print(f\"La lettre {lettre} apparait {nombre:0>10} fois\")\n"
   ]
  },
  {
   "cell_type": "markdown",
   "id": "852be00d",
   "metadata": {},
   "source": [
    "# Tuple unpacking\n"
   ]
  },
  {
   "cell_type": "code",
   "execution_count": 104,
   "id": "31e76119",
   "metadata": {},
   "outputs": [
    {
     "name": "stdout",
     "output_type": "stream",
     "text": [
      "1 2\n"
     ]
    }
   ],
   "source": [
    "a, b = (1, 2)\n",
    "print(a, b)"
   ]
  },
  {
   "cell_type": "markdown",
   "id": "711d0c98",
   "metadata": {},
   "source": [
    "## Rappels du matin \n",
    "\n",
    "* programmation fonctionnelle\n",
    "* dictionnaires"
   ]
  },
  {
   "cell_type": "code",
   "execution_count": 101,
   "id": "102995ca",
   "metadata": {},
   "outputs": [
    {
     "data": {
      "text/plain": [
       "\"nombre=32.5 lettre='B'\""
      ]
     },
     "execution_count": 101,
     "metadata": {},
     "output_type": "execute_result"
    }
   ],
   "source": [
    "f\"{nombre=} {lettre=}\""
   ]
  },
  {
   "cell_type": "code",
   "execution_count": 125,
   "id": "40d8cd46",
   "metadata": {},
   "outputs": [
    {
     "name": "stdout",
     "output_type": "stream",
     "text": [
      "3\n"
     ]
    }
   ],
   "source": [
    "print(d.get(\"i\", 0))"
   ]
  },
  {
   "cell_type": "code",
   "execution_count": 123,
   "id": "84767faa",
   "metadata": {},
   "outputs": [],
   "source": [
    "d.get?"
   ]
  },
  {
   "cell_type": "code",
   "execution_count": null,
   "id": "cd0a1be4",
   "metadata": {},
   "outputs": [],
   "source": []
  }
 ],
 "metadata": {
  "kernelspec": {
   "display_name": "Python 3 (ipykernel)",
   "language": "python",
   "name": "python3"
  },
  "language_info": {
   "codemirror_mode": {
    "name": "ipython",
    "version": 3
   },
   "file_extension": ".py",
   "mimetype": "text/x-python",
   "name": "python",
   "nbconvert_exporter": "python",
   "pygments_lexer": "ipython3",
   "version": "3.9.12"
  }
 },
 "nbformat": 4,
 "nbformat_minor": 5
}
