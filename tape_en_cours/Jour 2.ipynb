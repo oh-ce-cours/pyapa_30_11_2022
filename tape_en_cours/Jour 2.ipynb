{
 "cells": [
  {
   "cell_type": "markdown",
   "id": "c0128879",
   "metadata": {},
   "source": [
    "# Tentative de programme\n",
    "\n",
    "* exercice sur les dictionnaires / sets \n",
    "\n",
    "* arguments de fonctions (`*args`, `**kwargs`, arguments mutables)\n",
    "* closures\n",
    "* fonctions d'ordre supérieur\n",
    "* décorateurs\n",
    "* générateurs / itérateurs"
   ]
  },
  {
   "cell_type": "markdown",
   "id": "9b9cb470",
   "metadata": {},
   "source": [
    "# Rappels du jour 1\n",
    "\n",
    "* gestion des environnements virtuels \n",
    "* wheels\n",
    "* configuration VSCode\n",
    "    * linters \n",
    "        * `pylint` : linter généraliste + style\n",
    "        * `mypy` : linter spécialisé dans la vérification de type\n",
    "    * formateur\n",
    "        * `black`\n",
    "* début des fonctions d'ordre supérieur"
   ]
  },
  {
   "cell_type": "code",
   "execution_count": 2,
   "id": "b48ee5db",
   "metadata": {},
   "outputs": [
    {
     "name": "stdout",
     "output_type": "stream",
     "text": [
      "3\n",
      "None <class 'NoneType'>\n"
     ]
    }
   ],
   "source": [
    "def f(n):\n",
    "    print(n)\n",
    "\n",
    "a = f(3)\n",
    "print(a, type(a))"
   ]
  },
  {
   "cell_type": "code",
   "execution_count": 7,
   "id": "a9a2485a",
   "metadata": {},
   "outputs": [
    {
     "name": "stdout",
     "output_type": "stream",
     "text": [
      "1\n",
      "2\n",
      "3\n"
     ]
    }
   ],
   "source": [
    "print(\"\\n\".join([\"1\", \"2\", \"3\"]))"
   ]
  },
  {
   "cell_type": "code",
   "execution_count": 9,
   "id": "1be2f2fb",
   "metadata": {},
   "outputs": [
    {
     "name": "stdout",
     "output_type": "stream",
     "text": [
      "0\n",
      "1\n",
      "2\n",
      "3\n",
      "4\n",
      "5\n",
      "6\n",
      "7\n",
      "8\n",
      "9\n"
     ]
    }
   ],
   "source": [
    "print(\"\\n\".join(map(lambda, range(10))))"
   ]
  },
  {
   "cell_type": "code",
   "execution_count": 18,
   "id": "1601fa04",
   "metadata": {},
   "outputs": [
    {
     "name": "stdout",
     "output_type": "stream",
     "text": [
      "0\n",
      "1000\n",
      "2000\n",
      "3000\n",
      "4000\n",
      "5000\n",
      "6000\n",
      "7000\n",
      "8000\n",
      "9000\n",
      "10000\n",
      "11000\n",
      "12000\n"
     ]
    }
   ],
   "source": [
    "for n in map(str, range(100_000_000_000_000)):\n",
    "    if int(n) % 1000 == 0:\n",
    "        print(n)\n",
    "    if n == \"12345\":\n",
    "        break"
   ]
  },
  {
   "cell_type": "code",
   "execution_count": null,
   "id": "c30a1577",
   "metadata": {},
   "outputs": [],
   "source": [
    "data = []"
   ]
  }
 ],
 "metadata": {
  "kernelspec": {
   "display_name": "Python 3 (ipykernel)",
   "language": "python",
   "name": "python3"
  },
  "language_info": {
   "codemirror_mode": {
    "name": "ipython",
    "version": 3
   },
   "file_extension": ".py",
   "mimetype": "text/x-python",
   "name": "python",
   "nbconvert_exporter": "python",
   "pygments_lexer": "ipython3",
   "version": "3.9.12"
  }
 },
 "nbformat": 4,
 "nbformat_minor": 5
}
